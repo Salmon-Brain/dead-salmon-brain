{
 "cells": [
  {
   "cell_type": "code",
   "execution_count": 12,
   "id": "1121494a",
   "metadata": {},
   "outputs": [],
   "source": [
    "%matplotlib inline\n",
    "import pyspark\n",
    "import time\n",
    "\n",
    "import seaborn as sns\n",
    "import numpy as np\n",
    "import pandas as pd\n",
    "\n",
    "from matplotlib import pyplot as plt\n",
    "from pyspark.sql import SparkSession\n",
    "from pyspark.ml import Pipeline\n",
    "from ai.salmonbrain import (\n",
    "    CumulativeMetricTransformer,\n",
    "    AutoStatisticsTransformer,\n",
    "    OutlierRemoveTransformer,\n",
    ")"
   ]
  },
  {
   "cell_type": "code",
   "execution_count": 13,
   "id": "70a31396",
   "metadata": {},
   "outputs": [],
   "source": [
    "def get_entity_id(idx: int, num_entities: int):\n",
    "    return idx % num_entities\n",
    "\n",
    "\n",
    "def get_row(entity_uid: str, variant: str, value: float):\n",
    "    return {\n",
    "                \"metricSource\": \"feedback\",\n",
    "                \"entityUid\": entity_uid,\n",
    "                \"experimentUid\": \"exp\",\n",
    "                \"variantId\": variant,\n",
    "                \"metricValue\": float(value),\n",
    "                \"metricName\": \"ts\",\n",
    "                \"isAdditive\": True,\n",
    "                \"timestamp\": int(time.time())\n",
    "            }"
   ]
  },
  {
   "cell_type": "code",
   "execution_count": 14,
   "id": "5bac27e4",
   "metadata": {},
   "outputs": [],
   "source": [
    "N = 1000\n",
    "NUM_ENTITIES = 100"
   ]
  },
  {
   "cell_type": "code",
   "execution_count": 15,
   "id": "576b707f",
   "metadata": {},
   "outputs": [],
   "source": [
    "control_values = np.random.normal(1, 1, N)\n",
    "test_values = np.random.normal(2, 2, N)"
   ]
  },
  {
   "cell_type": "code",
   "execution_count": 16,
   "id": "5f523c2f",
   "metadata": {},
   "outputs": [
    {
     "data": {
      "image/png": "[encoded data removed]",
      "text/plain": [
       "<Figure size 432x288 with 1 Axes>"
      ]
     },
     "metadata": {
      "needs_background": "light"
     },
     "output_type": "display_data"
    }
   ],
   "source": [
    "bins = np.linspace(-10, 10, 100)\n",
    "\n",
    "plt.hist(control_values, bins, alpha=0.5, label='x')\n",
    "plt.hist(test_values, bins, alpha=0.5, label='y')\n",
    "plt.legend(loc='upper right')\n",
    "plt.show()"
   ]
  },
  {
   "cell_type": "code",
   "execution_count": 17,
   "id": "df825182",
   "metadata": {},
   "outputs": [],
   "source": [
    "control_data = [get_row(str(get_entity_id(idx, NUM_ENTITIES)), \"control\", value)\\\n",
    "                for idx, value in enumerate(control_values)]\n",
    "\n",
    "test_data = [get_row(str(get_entity_id(idx, NUM_ENTITIES)), \"treatment\", value)\\\n",
    "             for idx, value in enumerate(test_values)]"
   ]
  },
  {
   "cell_type": "code",
   "execution_count": 18,
   "id": "ddaf70a9",
   "metadata": {},
   "outputs": [],
   "source": [
    "df = spark.createDataFrame(data=(control_data + test_data))"
   ]
  },
  {
   "cell_type": "code",
   "execution_count": 19,
   "id": "ba690ac8",
   "metadata": {},
   "outputs": [
    {
     "name": "stdout",
     "output_type": "stream",
     "text": [
      "+---------+------+----------+----------+------------+-------------------+----------+---------+\n",
      "|entityUid|experimentUid|isAdditive|metricName|metricSource|        metricValue| timestamp|variantId|\n",
      "+---------+------+----------+----------+------------+-------------------+----------+---------+\n",
      "|        0|   exp|      true|        ts|    feedback| 0.6058181437061179|1639302885|  control|\n",
      "|        1|   exp|      true|        ts|    feedback|   2.85678678579561|1639302885|  control|\n",
      "|        2|   exp|      true|        ts|    feedback|  1.200365617789879|1639302885|  control|\n",
      "|        3|   exp|      true|        ts|    feedback| 1.4786937731429313|1639302885|  control|\n",
      "|        4|   exp|      true|        ts|    feedback|-0.6635258461644913|1639302885|  control|\n",
      "+---------+------+----------+----------+------------+-------------------+----------+---------+\n",
      "only showing top 5 rows\n",
      "\n"
     ]
    }
   ],
   "source": [
    "df.show(5)"
   ]
  },
  {
   "cell_type": "code",
   "execution_count": 20,
   "id": "2ed17201",
   "metadata": {},
   "outputs": [],
   "source": [
    "cum = CumulativeMetricTransformer()\n",
    "outlier = OutlierRemoveTransformer()\n",
    "stat = AutoStatisticsTransformer()\n",
    "pipeline = Pipeline(stages=[cum, outlier, stat])"
   ]
  },
  {
   "cell_type": "code",
   "execution_count": 21,
   "id": "ce1863b8",
   "metadata": {},
   "outputs": [
    {
     "name": "stderr",
     "output_type": "stream",
     "text": [
      "                                                                                \r"
     ]
    }
   ],
   "source": [
    "stat_result = pipeline.fit(df).transform(df)"
   ]
  },
  {
   "cell_type": "code",
   "execution_count": 22,
   "id": "387512b9",
   "metadata": {},
   "outputs": [
    {
     "name": "stderr",
     "output_type": "stream",
     "text": [
      "                                                                                \r"
     ]
    },
    {
     "data": {
      "text/html": [
       "<div>\n",
       "<style scoped>\n",
       "    .dataframe tbody tr th:only-of-type {\n",
       "        vertical-align: middle;\n",
       "    }\n",
       "\n",
       "    .dataframe tbody tr th {\n",
       "        vertical-align: top;\n",
       "    }\n",
       "\n",
       "    .dataframe thead th {\n",
       "        text-align: right;\n",
       "    }\n",
       "</style>\n",
       "<table border=\"1\" class=\"dataframe\">\n",
       "  <thead>\n",
       "    <tr style=\"text-align: right;\">\n",
       "      <th></th>\n",
       "      <th>metricName</th>\n",
       "      <th>experimentUid</th>\n",
       "      <th>srm</th>\n",
       "      <th>testType</th>\n",
       "      <th>pValue</th>\n",
       "      <th>requiredSampleSizeByVariant</th>\n",
       "      <th>percentageLeft</th>\n",
       "      <th>percentageRight</th>\n",
       "    </tr>\n",
       "  </thead>\n",
       "  <tbody>\n",
       "    <tr>\n",
       "      <th>0</th>\n",
       "      <td>ts</td>\n",
       "      <td>exp</td>\n",
       "      <td>False</td>\n",
       "      <td>WELCH</td>\n",
       "      <td>5.426406e-37</td>\n",
       "      <td>5</td>\n",
       "      <td>83.369017</td>\n",
       "      <td>112.488061</td>\n",
       "    </tr>\n",
       "  </tbody>\n",
       "</table>\n",
       "</div>"
      ],
      "text/plain": [
       "  metricName experimentUid    srm testType        pValue  \\\n",
       "0         ts    exp  False    WELCH  5.426406e-37   \n",
       "\n",
       "   requiredSampleSizeByVariant  percentageLeft  percentageRight  \n",
       "0                            5       83.369017       112.488061  "
      ]
     },
     "execution_count": 22,
     "metadata": {},
     "output_type": "execute_result"
    }
   ],
   "source": [
    "stat_result.select(\n",
    "  \"metricName\",\n",
    "  \"experimentUid\",\n",
    "  \"statisticsData.srm\",\n",
    "  \"statisticsData.testType\",\n",
    "  \"statisticsData.statResult.pValue\",\n",
    "  \"statisticsData.statResult.requiredSampleSizeByVariant\",\n",
    "  \"statisticsData.statResult.percentageLeft\",\n",
    "  \"statisticsData.statResult.percentageRight\"\n",
    ").toPandas().head()"
   ]
  }
 ],
 "metadata": {
  "kernelspec": {
   "display_name": "Python 3 (ipykernel)",
   "language": "python",
   "name": "python3"
  },
  "language_info": {
   "codemirror_mode": {
    "name": "ipython",
    "version": 3
   },
   "file_extension": ".py",
   "mimetype": "text/x-python",
   "name": "python",
   "nbconvert_exporter": "python",
   "pygments_lexer": "ipython3",
   "version": "3.8.12"
  }
 },
 "nbformat": 4,
 "nbformat_minor": 5
}
